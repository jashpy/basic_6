{
 "cells": [
  {
   "cell_type": "markdown",
   "id": "854dba8f-35e3-411f-98fb-b50a798c26b9",
   "metadata": {},
   "source": [
    "problem-1"
   ]
  },
  {
   "cell_type": "code",
   "execution_count": 1,
   "id": "9c264531-d2f4-4537-9960-58144b8b39ee",
   "metadata": {},
   "outputs": [
    {
     "data": {
      "text/plain": [
       "'JOHN HAS SCORED 97.8 PERCENTAGE IN THE CLASS AND SECURED EX GRADE AND STOOD 1'"
      ]
     },
     "execution_count": 1,
     "metadata": {},
     "output_type": "execute_result"
    }
   ],
   "source": [
    "#Q1. Explain Class and Object with respect to Object-Oriented Programming. Give a suitable example.\n",
    "'''ans-classes are user defined that acts as a blueprint.for example lets suppose a report card\n",
    "submitted after final\n",
    "exams in schools that are user defined.\n",
    "objects are real world entity and we can say that that provides a sense to the blueprint.for example\n",
    "without the student information filled in the report card it is just acts a useless form.'''\n",
    "\n",
    "#code example\n",
    "\n",
    "class performance:\n",
    "    def __init__(self,name,percent,grade,rank):\n",
    "        self.name=name\n",
    "        self.percent=percent\n",
    "        self.grade=grade\n",
    "        self.rank=rank\n",
    "    def show(self):\n",
    "        return f\"{self.name} HAS SCORED {self.percent} PERCENTAGE IN THE CLASS AND SECURED {self.grade} GRADE AND STOOD {self.rank}\"\n",
    "    \n",
    "per=performance(\"JOHN\",97.8,\"EX\",1)\n",
    "per.show()"
   ]
  },
  {
   "cell_type": "markdown",
   "id": "7800caa3-4884-4aa0-8b96-0862d5c59e78",
   "metadata": {},
   "source": [
    "problem-2"
   ]
  },
  {
   "cell_type": "code",
   "execution_count": 2,
   "id": "8e722755-0ff5-454f-b28d-dfaa10f87d98",
   "metadata": {},
   "outputs": [
    {
     "data": {
      "text/plain": [
       "'ans-the four pillars of oops are \\n1)inheritance\\n2)polymorphism\\n3)abstraction\\n4)encapsulation'"
      ]
     },
     "execution_count": 2,
     "metadata": {},
     "output_type": "execute_result"
    }
   ],
   "source": [
    "#Q2. Name the four pillars of OOPs.\n",
    "'''ans-the four pillars of oops are \n",
    "1)inheritance\n",
    "2)polymorphism\n",
    "3)abstraction\n",
    "4)encapsulation'''"
   ]
  },
  {
   "cell_type": "markdown",
   "id": "8f5ad65d-e6c7-4d8e-8e19-da80baee78d5",
   "metadata": {},
   "source": [
    "problem-3"
   ]
  },
  {
   "cell_type": "code",
   "execution_count": 3,
   "id": "8ab96c3c-42f7-4657-b049-eea80446d27a",
   "metadata": {},
   "outputs": [
    {
     "data": {
      "text/plain": [
       "'JOHN HAS SCORED 97.8 PERCENTAGE IN THE CLASS AND SECURED EX GRADE AND STOOD 1'"
      ]
     },
     "execution_count": 3,
     "metadata": {},
     "output_type": "execute_result"
    }
   ],
   "source": [
    "#Q3. Explain why the __init__() function is used. Give a suitable example.\n",
    "'''ans-__init__ is a dunder method and it is used to pass the variables and informations and it directly \n",
    "saves it \n",
    "in the class and we can get that variables while using several methods in our saved class.'''\n",
    "\n",
    "class performance:\n",
    "    def __init__(self,name,percent,grade,rank):\n",
    "        self.name=name\n",
    "        self.percent=percent\n",
    "        self.grade=grade\n",
    "        self.rank=rank\n",
    "    def show(self):\n",
    "        return f\"{self.name} HAS SCORED {self.percent} PERCENTAGE IN THE CLASS AND SECURED {self.grade} GRADE AND STOOD {self.rank}\"\n",
    "    \n",
    "per=performance(\"JOHN\",97.8,\"EX\",1)\n",
    "per.show()"
   ]
  },
  {
   "cell_type": "markdown",
   "id": "3ec131e6-e071-49bd-9bbf-20e653baaa16",
   "metadata": {},
   "source": [
    "problem-4"
   ]
  },
  {
   "cell_type": "code",
   "execution_count": 4,
   "id": "816b2fda-c8f2-4d55-b283-fb4261db4095",
   "metadata": {},
   "outputs": [
    {
     "data": {
      "text/plain": [
       "'ans-self here basically acts as a pointer which points that particular attributes in that particular\\nused class.We have to use \"self\" in all our methods also to clarify that this features is of this particular \\nclass.The code example is demonstrated in the previous problems.'"
      ]
     },
     "execution_count": 4,
     "metadata": {},
     "output_type": "execute_result"
    }
   ],
   "source": [
    "#Q4. Why self is used in OOPs?\n",
    "'''ans-self here basically acts as a pointer which points that particular attributes in that particular\n",
    "used class.We have to use \"self\" in all our methods also to clarify that this features is of this particular \n",
    "class.The code example is demonstrated in the previous problems.'''\n"
   ]
  },
  {
   "cell_type": "markdown",
   "id": "4b8cd204-be57-47e7-a498-61547ea463bc",
   "metadata": {},
   "source": [
    "problem-5"
   ]
  },
  {
   "cell_type": "code",
   "execution_count": 5,
   "id": "c6701f3d-69b6-4d58-9d64-db6355d89646",
   "metadata": {},
   "outputs": [
    {
     "name": "stdout",
     "output_type": "stream",
     "text": [
      "this is the class of mathematics\n",
      "this is the class of vector algebra which is nothing but the inherited class of mathematics\n"
     ]
    }
   ],
   "source": [
    "#Q5. What is inheritance? Give an example for each type of inheritance.\n",
    "'''ans-Inheritance in python is basically increases the reusability.means we can make classes and if \n",
    "required the features of some previously made classes then by the propery of inheritance then\n",
    "by the property of inheritance \n",
    "we can inherit from the previously made class'''\n",
    "\n",
    "#1)single inheritance----->one to one:\n",
    "\n",
    "class mathematics:\n",
    "    \n",
    "    def info(self):\n",
    "        print(\"this is the class of mathematics\")\n",
    "class vect_alg(mathematics):\n",
    "    \n",
    "    def info1(self):\n",
    "        print(\"this is the class of vector algebra which is nothing but the inherited class of mathematics\")\n",
    "        \n",
    "math=mathematics()\n",
    "vec=vect_alg()\n",
    "\n",
    "vec.info()\n",
    "vec.info1()"
   ]
  },
  {
   "cell_type": "code",
   "execution_count": 6,
   "id": "bfadd2c3-1ae9-4512-bbfb-0c7638e2c19f",
   "metadata": {},
   "outputs": [
    {
     "name": "stdout",
     "output_type": "stream",
     "text": [
      "this is the class of mathematics\n",
      "this is the class of vector algebra\n",
      "this is the derived class from mathematics and vector algebra\n"
     ]
    }
   ],
   "source": [
    "#2)multiple inheritance------>more than one base class give the child class\n",
    "\n",
    "class mathematics:\n",
    "    \n",
    "    def info(self):\n",
    "        print(\"this is the class of mathematics\")\n",
    "class vect_alg:\n",
    "    \n",
    "    def info1(self):\n",
    "        print(\"this is the class of vector algebra\")\n",
    "        \n",
    "class box_product(mathematics,vect_alg):\n",
    "    def info2(self):\n",
    "        print(\"this is the derived class from mathematics and vector algebra\")\n",
    "        \n",
    "math=mathematics()\n",
    "vec=vect_alg()\n",
    "box=box_product()\n",
    "\n",
    "box.info()\n",
    "box.info1()\n",
    "box.info2()"
   ]
  },
  {
   "cell_type": "code",
   "execution_count": 7,
   "id": "626f7922-b715-40d7-8655-6ef95b30b1f6",
   "metadata": {},
   "outputs": [
    {
     "name": "stdout",
     "output_type": "stream",
     "text": [
      "this is the class of mathematics\n",
      "this is the class of mathematics\n"
     ]
    }
   ],
   "source": [
    "#3)multilevel inheritance:one base class have many derived child class\n",
    "\n",
    "\n",
    "class mathematics:\n",
    "    def info(self):\n",
    "        print(\"this is the class of mathematics\")\n",
    "class vect_alg(mathematics):\n",
    "    def info1(self):\n",
    "        print(\"this is the class of vector algebra derived from mathematics class\")\n",
    "class box_product(mathematics):\n",
    "    def info2(self):\n",
    "        print(\"this is the derived class from mathematics\")\n",
    "        \n",
    "math=mathematics()\n",
    "vec=vect_alg()\n",
    "box=box_product()\n",
    "\n",
    "vec.info()\n",
    "box.info()"
   ]
  },
  {
   "cell_type": "code",
   "execution_count": null,
   "id": "6e014410-72d6-440f-ac03-ce253fa535fc",
   "metadata": {},
   "outputs": [],
   "source": []
  }
 ],
 "metadata": {
  "kernelspec": {
   "display_name": "Python 3 (ipykernel)",
   "language": "python",
   "name": "python3"
  },
  "language_info": {
   "codemirror_mode": {
    "name": "ipython",
    "version": 3
   },
   "file_extension": ".py",
   "mimetype": "text/x-python",
   "name": "python",
   "nbconvert_exporter": "python",
   "pygments_lexer": "ipython3",
   "version": "3.10.8"
  }
 },
 "nbformat": 4,
 "nbformat_minor": 5
}
